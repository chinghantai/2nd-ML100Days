{
 "cells": [
  {
   "cell_type": "code",
   "execution_count": 1,
   "metadata": {},
   "outputs": [],
   "source": [
    "# Import 需要的套件\n",
    "import os\n",
    "import numpy as np\n",
    "import pandas as pd\n",
    "\n",
    "# 設定 data_path\n",
    "dir_data = './data/'"
   ]
  },
  {
   "cell_type": "code",
   "execution_count": 2,
   "metadata": {},
   "outputs": [],
   "source": [
    "f_app_train = os.path.join(dir_data, 'application_train.csv')\n",
    "app_train = pd.read_csv(f_app_train)"
   ]
  },
  {
   "cell_type": "code",
   "execution_count": 3,
   "metadata": {},
   "outputs": [],
   "source": [
    "import matplotlib.pyplot as plt\n",
    "%matplotlib inline"
   ]
  },
  {
   "cell_type": "markdown",
   "metadata": {},
   "source": [
    "## 練習時間"
   ]
  },
  {
   "cell_type": "markdown",
   "metadata": {},
   "source": [
    "觀察有興趣的欄位的資料分佈，並嘗試找出有趣的訊息\n",
    "#### Eg\n",
    "- 計算任意欄位的平均數及標準差\n",
    "- 畫出任意欄位的[直方圖](https://zh.wikipedia.org/zh-tw/%E7%9B%B4%E6%96%B9%E5%9B%BE)\n",
    "\n",
    "### Hints:\n",
    "- [Descriptive Statistics For pandas Dataframe](https://chrisalbon.com/python/data_wrangling/pandas_dataframe_descriptive_stats/)\n",
    "- [pandas 中的繪圖函數](https://amaozhao.gitbooks.io/pandas-notebook/content/pandas%E4%B8%AD%E7%9A%84%E7%BB%98%E5%9B%BE%E5%87%BD%E6%95%B0.html)\n"
   ]
  },
  {
   "cell_type": "code",
   "execution_count": 11,
   "metadata": {},
   "outputs": [
    {
     "name": "stdout",
     "output_type": "stream",
     "text": [
      "float64    65\n",
      "int64      41\n",
      "object     16\n",
      "dtype: int64\n",
      "SK_ID_CURR                      int64\n",
      "TARGET                          int64\n",
      "NAME_CONTRACT_TYPE             object\n",
      "CODE_GENDER                    object\n",
      "FLAG_OWN_CAR                   object\n",
      "FLAG_OWN_REALTY                object\n",
      "CNT_CHILDREN                    int64\n",
      "AMT_INCOME_TOTAL              float64\n",
      "AMT_CREDIT                    float64\n",
      "AMT_ANNUITY                   float64\n",
      "AMT_GOODS_PRICE               float64\n",
      "NAME_TYPE_SUITE                object\n",
      "NAME_INCOME_TYPE               object\n",
      "NAME_EDUCATION_TYPE            object\n",
      "NAME_FAMILY_STATUS             object\n",
      "NAME_HOUSING_TYPE              object\n",
      "REGION_POPULATION_RELATIVE    float64\n",
      "DAYS_BIRTH                      int64\n",
      "DAYS_EMPLOYED                   int64\n",
      "DAYS_REGISTRATION             float64\n",
      "DAYS_ID_PUBLISH                 int64\n",
      "OWN_CAR_AGE                   float64\n",
      "FLAG_MOBIL                      int64\n",
      "FLAG_EMP_PHONE                  int64\n",
      "FLAG_WORK_PHONE                 int64\n",
      "FLAG_CONT_MOBILE                int64\n",
      "FLAG_PHONE                      int64\n",
      "FLAG_EMAIL                      int64\n",
      "OCCUPATION_TYPE                object\n",
      "CNT_FAM_MEMBERS               float64\n",
      "                               ...   \n",
      "DEF_30_CNT_SOCIAL_CIRCLE      float64\n",
      "OBS_60_CNT_SOCIAL_CIRCLE      float64\n",
      "DEF_60_CNT_SOCIAL_CIRCLE      float64\n",
      "DAYS_LAST_PHONE_CHANGE        float64\n",
      "FLAG_DOCUMENT_2                 int64\n",
      "FLAG_DOCUMENT_3                 int64\n",
      "FLAG_DOCUMENT_4                 int64\n",
      "FLAG_DOCUMENT_5                 int64\n",
      "FLAG_DOCUMENT_6                 int64\n",
      "FLAG_DOCUMENT_7                 int64\n",
      "FLAG_DOCUMENT_8                 int64\n",
      "FLAG_DOCUMENT_9                 int64\n",
      "FLAG_DOCUMENT_10                int64\n",
      "FLAG_DOCUMENT_11                int64\n",
      "FLAG_DOCUMENT_12                int64\n",
      "FLAG_DOCUMENT_13                int64\n",
      "FLAG_DOCUMENT_14                int64\n",
      "FLAG_DOCUMENT_15                int64\n",
      "FLAG_DOCUMENT_16                int64\n",
      "FLAG_DOCUMENT_17                int64\n",
      "FLAG_DOCUMENT_18                int64\n",
      "FLAG_DOCUMENT_19                int64\n",
      "FLAG_DOCUMENT_20                int64\n",
      "FLAG_DOCUMENT_21                int64\n",
      "AMT_REQ_CREDIT_BUREAU_HOUR    float64\n",
      "AMT_REQ_CREDIT_BUREAU_DAY     float64\n",
      "AMT_REQ_CREDIT_BUREAU_WEEK    float64\n",
      "AMT_REQ_CREDIT_BUREAU_MON     float64\n",
      "AMT_REQ_CREDIT_BUREAU_QRT     float64\n",
      "AMT_REQ_CREDIT_BUREAU_YEAR    float64\n",
      "Length: 122, dtype: object\n"
     ]
    }
   ],
   "source": [
    "print(app_train.dtypes.value_counts())\n",
    "print(app_train.dtypes)"
   ]
  },
  {
   "cell_type": "code",
   "execution_count": 14,
   "metadata": {},
   "outputs": [
    {
     "name": "stdout",
     "output_type": "stream",
     "text": [
      "mean: 599025.9997057016\n",
      "median: 513531.0\n",
      "std: 402490.776995946\n"
     ]
    }
   ],
   "source": [
    "print(\"mean:\", app_train[\"AMT_CREDIT\"].mean())\n",
    "print(\"median:\", app_train[\"AMT_CREDIT\"].median())\n",
    "print(\"std:\", app_train[\"AMT_CREDIT\"].std())"
   ]
  },
  {
   "cell_type": "code",
   "execution_count": 16,
   "metadata": {},
   "outputs": [
    {
     "data": {
      "text/plain": [
       "<matplotlib.axes._subplots.AxesSubplot at 0x198b4823a20>"
      ]
     },
     "execution_count": 16,
     "metadata": {},
     "output_type": "execute_result"
    },
    {
     "data": {
      "image/png": "[encoded data removed]",
      "text/plain": [
       "<Figure size 432x288 with 1 Axes>"
      ]
     },
     "metadata": {
      "needs_background": "light"
     },
     "output_type": "display_data"
    }
   ],
   "source": [
    "app_train[\"AMT_CREDIT\"].hist(bins=50)"
   ]
  },
  {
   "cell_type": "code",
   "execution_count": 18,
   "metadata": {},
   "outputs": [
    {
     "name": "stdout",
     "output_type": "stream",
     "text": [
      "mean: 168797.9192969845\n",
      "median: 147150.0\n",
      "std: 237123.14627883647\n",
      "std: 117000000.0\n"
     ]
    },
    {
     "data": {
      "text/plain": [
       "<matplotlib.axes._subplots.AxesSubplot at 0x198b4d38dd8>"
      ]
     },
     "execution_count": 18,
     "metadata": {},
     "output_type": "execute_result"
    },
    {
     "data": {
      "image/png": "[encoded data removed]",
      "text/plain": [
       "<Figure size 432x288 with 1 Axes>"
      ]
     },
     "metadata": {
      "needs_background": "light"
     },
     "output_type": "display_data"
    }
   ],
   "source": [
    "print(\"mean:\", app_train[\"AMT_INCOME_TOTAL\"].mean())\n",
    "print(\"median:\", app_train[\"AMT_INCOME_TOTAL\"].median())\n",
    "print(\"std:\", app_train[\"AMT_INCOME_TOTAL\"].std())\n",
    "print(\"std:\", app_train[\"AMT_INCOME_TOTAL\"].max())\n",
    "app_train[\"AMT_INCOME_TOTAL\"].hist(bins=50)          #受到極值影響，無法看出實際分布"
   ]
  }
 ],
 "metadata": {
  "kernelspec": {
   "display_name": "Python 3",
   "language": "python",
   "name": "python3"
  },
  "language_info": {
   "codemirror_mode": {
    "name": "ipython",
    "version": 3
   },
   "file_extension": ".py",
   "mimetype": "text/x-python",
   "name": "python",
   "nbconvert_exporter": "python",
   "pygments_lexer": "ipython3",
   "version": "3.7.1"
  }
 },
 "nbformat": 4,
 "nbformat_minor": 2
}
